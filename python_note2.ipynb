{
 "cells": [
  {
   "metadata": {},
   "cell_type": "markdown",
   "source": "## Chapter 3: Reading and writing files",
   "id": "5e670c624cdfb2d0"
  },
  {
   "metadata": {},
   "cell_type": "markdown",
   "source": [
    "### - Reading text from a file\n",
    "\n",
    "textfiles are files that contains characters and lines that can be open and viewed using a text editor.\n",
    "Some Examples are\n",
    "   - FASTA files of DNA or protein sequences\n",
    "   - files containing output from command-line programs (e.g. BLAST)\n",
    "   - FASTQ files containing DNA sequencing reads\n",
    "   - HTML files\n",
    "   - word processing documents\n",
    "   - and Python code"
   ],
   "id": "4af3175bb04b3617"
  },
  {
   "metadata": {},
   "cell_type": "markdown",
   "source": [
    "### - Using open to read a file\n",
    "\n",
    "In python , we have to open a file before we can read it. we use the open function which takes one argument, a string that contains the name of the file and it returns a file object"
   ],
   "id": "4f3eaa68e265db8a"
  },
  {
   "metadata": {
    "ExecuteTime": {
     "end_time": "2025-05-15T14:12:40.840278Z",
     "start_time": "2025-05-15T14:12:40.835555Z"
    }
   },
   "cell_type": "code",
   "source": "my_file = open(\"dna.txt\")",
   "id": "532890fc0008088a",
   "outputs": [],
   "execution_count": 1
  },
  {
   "metadata": {},
   "cell_type": "markdown",
   "source": [
    "A file object is a new datatype, it represents a file on the computer's hard drive. We use methods to interact with file objects.\n",
    "\n",
    "first we need to do now is to read the file using the read method, it doesn't take an argument but returns a string we store in a variable. then we treat it like a regular string"
   ],
   "id": "271644bd2fce5132"
  },
  {
   "metadata": {
    "ExecuteTime": {
     "end_time": "2025-05-17T13:47:10.397938Z",
     "start_time": "2025-05-17T13:47:10.377415Z"
    }
   },
   "cell_type": "code",
   "source": [
    "my_file = open(\"dna.txt\")\n",
    "file_contents = my_file.read()\n",
    "print(file_contents)"
   ],
   "id": "54af7865470c0ca5",
   "outputs": [
    {
     "name": "stdout",
     "output_type": "stream",
     "text": [
      "ACTGTACGTGCACTGATC\n",
      "\n"
     ]
    }
   ],
   "execution_count": 20
  },
  {
   "metadata": {},
   "cell_type": "markdown",
   "source": [
    "#### - Files, content and file names\n",
    "\n",
    "The difference between a file object, file name and the content of the file"
   ],
   "id": "3a8c23506589884f"
  },
  {
   "metadata": {
    "ExecuteTime": {
     "end_time": "2025-05-15T14:49:40.874092Z",
     "start_time": "2025-05-15T14:49:40.868164Z"
    }
   },
   "cell_type": "code",
   "source": [
    "my_file_name = \"dna.txt\"\n",
    "my_file = open(my_file_name)\n",
    "my_file_contents = my_file.read()"
   ],
   "id": "ee6d4a7d5c8b1272",
   "outputs": [],
   "execution_count": 3
  },
  {
   "metadata": {},
   "cell_type": "markdown",
   "source": [
    "In line 1, we store the string dna.txt in the variable\n",
    "my_file_name. On line 2, we use the variable my_file_name as the argument\n",
    "to the open function, and store the resulting file object in the variable my_file.\n",
    "On line 3, we call the read method on the variable my_file, and store the\n",
    "resulting string in the variable my_file_contents.\n",
    "\n",
    "my_file_name is a string, and it stores the name of a file on disk.\n",
    "my_file is a file object, and it represents the file itself. my_file_contents is a\n",
    "string, and it stores the text that is in the file."
   ],
   "id": "663e7421f1491e41"
  },
  {
   "metadata": {},
   "cell_type": "markdown",
   "source": [
    "#### - Dealing with new lines\n",
    "\n",
    "We're going to write a simple program to read the DNA sequence from the file and\n",
    "print it out along with its length."
   ],
   "id": "72e55ad85cb867c8"
  },
  {
   "metadata": {
    "ExecuteTime": {
     "end_time": "2025-05-15T15:22:27.707995Z",
     "start_time": "2025-05-15T15:22:27.702817Z"
    }
   },
   "cell_type": "code",
   "source": [
    "#open the file\n",
    "my_file = open(\"dna.txt\")\n",
    "# read the contents\n",
    "my_DNA = my_file.read()\n",
    "#calculate the length\n",
    "dna_length = len(my_DNA)\n",
    "# print the output\n",
    "print(\"sequence is \" + my_DNA + \" and length is \" + str(dna_length))\n"
   ],
   "id": "18d882407649ccc9",
   "outputs": [
    {
     "name": "stdout",
     "output_type": "stream",
     "text": [
      "sequence is ACTGTACGTGCACTGATC\n",
      " and length is 19\n"
     ]
    }
   ],
   "execution_count": 7
  },
  {
   "metadata": {},
   "cell_type": "markdown",
   "source": [
    "Python has included the new line\n",
    "character at the end of the dna.txt file as part of the contents. In other words, the\n",
    "variable my_dna has a new line character at the end of it. If we could view the\n",
    "my_dna variable directly\n",
    "\n",
    "the solution is to remove the method to remove the new line, which is the rstrip method and it takes one argument which is the character you want to remove"
   ],
   "id": "3653390970410b33"
  },
  {
   "metadata": {
    "ExecuteTime": {
     "end_time": "2025-05-15T15:27:16.999175Z",
     "start_time": "2025-05-15T15:27:16.985607Z"
    }
   },
   "cell_type": "code",
   "source": [
    "#open the file\n",
    "my_file = open(\"dna.txt\")\n",
    "# read the contents\n",
    "my_file_contents = my_file.read()\n",
    "#remove the new line from the end of the file content\n",
    "my_DNA = my_file_contents.rstrip(\"\\n\")\n",
    "dna_length = len(my_DNA)\n",
    "print(\"sequence is \" + my_DNA + \" and length is \" + str(dna_length))\n"
   ],
   "id": "ddde50cddd7dbd30",
   "outputs": [
    {
     "name": "stdout",
     "output_type": "stream",
     "text": [
      "sequence is ACTGTACGTGCACTGATC and length is 18\n"
     ]
    }
   ],
   "execution_count": 9
  },
  {
   "metadata": {},
   "cell_type": "markdown",
   "source": [
    "### - Opening files for writing\n",
    "\n",
    "To open a file for writing, we use a two-argument string describing what we want to do to the file, the second argument can be \"r\" for reading and \"w\" for writing and \"a\" for appending. and the default is \"r\" when we leave out the second argument\n",
    "\n",
    "The difference between \"w\" and \"a\" is if we open an already existing file with \"w\" it overwrites with what data we write and for \"a\" it add the new data onto the end for the file but it won't remove the existing content\n",
    "\n",
    "we can use the write method to write into a file we've opened, it takes one argument which is what we want to write into the file."
   ],
   "id": "5bca6e5d7672cfba"
  },
  {
   "metadata": {
    "ExecuteTime": {
     "end_time": "2025-05-17T13:30:20.077686Z",
     "start_time": "2025-05-17T13:30:20.029100Z"
    }
   },
   "cell_type": "code",
   "source": [
    "my_file = open(\"out.txt\", \"w\")\n",
    "my_file.write(\"Hello World\")"
   ],
   "id": "7c0e26cfbd3956b8",
   "outputs": [
    {
     "data": {
      "text/plain": [
       "11"
      ]
     },
     "execution_count": 10,
     "metadata": {},
     "output_type": "execute_result"
    }
   ],
   "execution_count": 10
  },
  {
   "metadata": {},
   "cell_type": "markdown",
   "source": [
    "Remember that with write, just like with print, we can use any string as the\n",
    "argument. This also means that we can use any method or function that returns a\n",
    "string"
   ],
   "id": "1d608a3528d39200"
  },
  {
   "metadata": {},
   "cell_type": "code",
   "outputs": [],
   "execution_count": null,
   "source": [
    "# write \"abcdef\"\n",
    "my_file.write(\"abc\" + \"def\")\n",
    "# write \"8\"\n",
    "my_file.write(str(len('AGTGCTAG')))\n",
    "# write \"TTGC\"\n",
    "my_file.write(\"ATGC\".replace('A', 'T'))\n",
    "# write \"atgc\"\n",
    "my_file.write(\"ATGC\".lower())\n",
    "# write contents of my_variable\n",
    "my_file.write(my_variable)"
   ],
   "id": "6545e47779d664c7"
  },
  {
   "metadata": {},
   "cell_type": "markdown",
   "source": [
    "#### - Closing files\n",
    "We use the close method after we are done reading and writing a file\n"
   ],
   "id": "393d9b2db602eab3"
  },
  {
   "metadata": {
    "ExecuteTime": {
     "end_time": "2025-05-17T13:33:54.150161Z",
     "start_time": "2025-05-17T13:33:54.141701Z"
    }
   },
   "cell_type": "code",
   "source": [
    "my_file = open(\"out.txt\", \"w\")\n",
    "my_file.write(\"Hello world\")\n",
    "# remember to close the file\n",
    "my_file.close()"
   ],
   "id": "fe8b2eccb9d89f72",
   "outputs": [],
   "execution_count": 12
  },
  {
   "metadata": {},
   "cell_type": "markdown",
   "source": "## - Exercises",
   "id": "92e6000b1bf4803d"
  },
  {
   "metadata": {},
   "cell_type": "markdown",
   "source": [
    "1. Splitting genomic DNA\n",
    "\n",
    "Look in the chapter_3 folder for a file called genomic_dna.txt – it contains the same\n",
    "piece of genomic DNA that we were using in the final exercise from chapter 2. Write\n",
    "a program that will split the genomic DNA into coding and non-coding parts, and\n",
    "write these sequences to two separate files."
   ],
   "id": "37bab7c8478e8d63"
  },
  {
   "metadata": {
    "ExecuteTime": {
     "end_time": "2025-05-17T13:52:54.811630Z",
     "start_time": "2025-05-17T13:52:54.796711Z"
    }
   },
   "cell_type": "code",
   "source": [
    "# open the file and read its contents\n",
    "dna_file = open(\"genomic_dna.txt\")\n",
    "dna = dna_file.read()\n",
    "# open the two output files\n",
    "coding_region = open(\"coding_region.txt\", \"+w\")\n",
    "non_coding_region = open(\"non_coding_region.txt\", \"+w\")\n",
    "#first exon\n",
    "exon1 = dna[0:63]\n",
    "#intron in lowercase\n",
    "intron = dna[63:90].lower()\n",
    "#second exon\n",
    "exon2 = dna[90:]\n",
    "# write the sequences to the output files\n",
    "coding_region.write(exon1 + exon2)\n",
    "non_coding_region.write(intron)\n"
   ],
   "id": "49ddb9d0aef2d89a",
   "outputs": [
    {
     "data": {
      "text/plain": [
       "27"
      ]
     },
     "execution_count": 25,
     "metadata": {},
     "output_type": "execute_result"
    }
   ],
   "execution_count": 25
  },
  {
   "metadata": {},
   "cell_type": "markdown",
   "source": [
    "2. Writing a FASTA file\n",
    "\n",
    "FASTA file format is a commonly-used DNA and protein sequence file format. A\n",
    "single sequence in FASTA format looks like this:\n",
    "\n",
    "\n",
    "\">sequence_name\n",
    "\n",
    "ATCGACTGATCGATCGTACGAT\"\n",
    "\n",
    "\n",
    "Where sequence_name is a header that describes the sequence (the greater-than\n",
    "symbol indicates the start of the header line). Often, the header contains an\n",
    "accession number that relates to the record for the sequence in a public sequence\n",
    "database. A single FASTA file can contain multiple sequences, like this:\n",
    "\n",
    "\">sequence_one\n",
    "\n",
    "ATCGATCGATCGATCGAT\n",
    "\n",
    "\">sequence_two\n",
    "\n",
    "ACTAGCTAGCTAGCATCG\n",
    "\n",
    "\">sequence_three\n",
    "\n",
    "ACTGCATCGATCGTACCT\n",
    "\n",
    "\n",
    "Write a program that will create a FASTA file for the following three sequences –\n",
    "make sure that all sequences are in upper case and only contain the bases A, T, G\n",
    "and C.\n",
    "\n",
    "Sequence header DNA sequence\n",
    "\n",
    "ABC123 ATCGTACGATCGATCGATCGCTAGACGTATCG\n",
    "\n",
    "DEF456 actgatcgacgatcgatcgatcacgact\n",
    "\n",
    "HIJ789 ACTGAC-ACTGT--ACTGTA----CATGTG"
   ],
   "id": "e9d32479004a438a"
  },
  {
   "metadata": {
    "ExecuteTime": {
     "end_time": "2025-05-17T14:12:55.795963Z",
     "start_time": "2025-05-17T14:12:55.790637Z"
    }
   },
   "cell_type": "code",
   "source": [
    "# set the values of all the header variables\n",
    "header_1 = \"ABC123\"\n",
    "header_2 = \"DEF456\"\n",
    "header_3 = \"HIJ789\"\n",
    "\n",
    "# set the values of all the sequence variables\n",
    "seq_1 = \"ATCGTACGATCGATCGATCGCTAGACGTATCG\"\n",
    "seq_2 = \"actgatcgacgatcgatcgatcacgact\"\n",
    "seq_3 = \"ACTGAC-ACTGT--ACTGTA----CATGTG\"\n",
    "\n",
    "# make a new file to hold the output\n",
    "sequence_fasta = open(\"sequence.fasta\", \"w\")\n",
    "\n",
    "# write the header and sequence\n",
    "sequence_fasta.write( \"<\" + header_1 +\"\\n\"+seq_1+\"\\n\")\n",
    "sequence_fasta.write( \"<\" + header_2 +\"\\n\"+seq_2.upper()+\"\\n\")\n",
    "sequence_fasta.write( \"<\" + header_3 +\"\\n\"+seq_3.replace('-', '')+\"\\n\")\n",
    "\n",
    "#close\n",
    "sequence_fasta.close()"
   ],
   "id": "6dbd748dc9d9082f",
   "outputs": [],
   "execution_count": 42
  },
  {
   "metadata": {},
   "cell_type": "markdown",
   "source": [
    "3. Writing multiple FASTA files\n",
    "\n",
    "Use the data from the previous exercise, but instead of creating a single FASTA file,\n",
    "create three new FASTA files – one per sequence. The names of the FASTA files\n",
    "should be the same as the sequence header names, with the extension .fasta."
   ],
   "id": "b985151c34ff0972"
  },
  {
   "metadata": {
    "ExecuteTime": {
     "end_time": "2025-05-17T14:12:50.223816Z",
     "start_time": "2025-05-17T14:12:50.218309Z"
    }
   },
   "cell_type": "code",
   "source": [
    "# set the values of all the header variables\n",
    "header_1 = \"ABC123\"\n",
    "header_2 = \"DEF456\"\n",
    "header_3 = \"HIJ789\"\n",
    "\n",
    "# set the values of all the sequence variables\n",
    "seq_1 = \"ATCGTACGATCGATCGATCGCTAGACGTATCG\"\n",
    "seq_2 = \"actgatcgacgatcgatcgatcacgact\"\n",
    "seq_3 = \"ACTGAC-ACTGT--ACTGTA----CATGTG\"\n",
    "\n",
    "# make the file and write sequence for file 1\n",
    "ABC123_fasta = open(header_1 + \".fasta\", \"w\")\n",
    "ABC123_fasta.write( \"<\" + header_1 +\"\\n\"+seq_1+\"\\n\")\n",
    "\n",
    "# make the file and write sequence for file 2\n",
    "DEF456_fasta = open(header_2 + \".fasta\", \"w\")\n",
    "DEF456_fasta.write( \"<\" + header_2 +\"\\n\"+seq_2.upper()+\"\\n\")\n",
    "\n",
    "# make the file and write sequence for file 3\n",
    "HIJ789_fasta = open(header_3 + \".fasta\", \"w\")\n",
    "HIJ789_fasta.write( \"<\" + header_3 +\"\\n\"+seq_3.replace('-', '')+\"\\n\")\n",
    "\n",
    "#close\n",
    "ABC123_fasta.close()\n",
    "DEF456_fasta.close()\n",
    "HIJ789_fasta.close()"
   ],
   "id": "842f27420bcbc0cc",
   "outputs": [],
   "execution_count": 39
  }
 ],
 "metadata": {
  "kernelspec": {
   "display_name": "Python 3",
   "language": "python",
   "name": "python3"
  },
  "language_info": {
   "codemirror_mode": {
    "name": "ipython",
    "version": 2
   },
   "file_extension": ".py",
   "mimetype": "text/x-python",
   "name": "python",
   "nbconvert_exporter": "python",
   "pygments_lexer": "ipython2",
   "version": "2.7.6"
  }
 },
 "nbformat": 4,
 "nbformat_minor": 5
}
